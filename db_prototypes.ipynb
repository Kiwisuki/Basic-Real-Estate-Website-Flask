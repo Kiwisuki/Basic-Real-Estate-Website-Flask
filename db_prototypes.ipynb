{
 "cells": [
  {
   "cell_type": "code",
   "execution_count": 1,
   "id": "d768d4af",
   "metadata": {},
   "outputs": [],
   "source": [
    "import pymysql"
   ]
  },
  {
   "cell_type": "code",
   "execution_count": 2,
   "id": "4f15fed0",
   "metadata": {},
   "outputs": [],
   "source": [
    "def insert(info, table):\n",
    "    '''\n",
    "    Returns the sum of two decimal numbers in binary digits.\n",
    "\n",
    "            Parameters:\n",
    "                    user_info (dict): dictionary with at least Email, User_Password keys\n",
    "\n",
    "            Returns:\n",
    "                    exit_code (int): 1 if successful, 0 if failed insert\n",
    "    '''\n",
    "    try:\n",
    "        cols = f'{tuple(user.keys())}'.replace(\"'\",\"`\")\n",
    "        vals = f'{tuple(user.values())}'\n",
    "        connection = pymysql.connect(host=\"localhost\", user=\"root\", passwd=\"\", database=\"ktunt\")\n",
    "        cursor = connection.cursor()\n",
    "\n",
    "        # queries for inserting values\n",
    "        insert = f\"INSERT INTO {table}{cols} VALUES{vals};\"\n",
    "        #executing the quires\n",
    "        cursor.execute(insert)\n",
    "        connection.commit()\n",
    "        connection.close()\n",
    "        return 1\n",
    "    except:\n",
    "        return 0\n",
    "\n",
    "def auth_password(email, password):\n",
    "    '''\n",
    "    Returns boolean if password matches password in database by email\n",
    "    '''\n",
    "    connection = pymysql.connect(host=\"localhost\", user=\"root\", passwd=\"\", database=\"ktunt\")\n",
    "    cursor = connection.cursor()\n",
    "\n",
    "    # queries for inserting values\n",
    "    insert = f\"SELECT User_Password FROM users WHERE Email = '{email}'\"\n",
    "    #executing the quires\n",
    "    cursor.execute(insert)\n",
    "    row = cursor.fetchall()\n",
    "    if len(row) == 0:\n",
    "        return False\n",
    "    password_db = row[0][0]\n",
    "    connection.commit()\n",
    "    connection.close()\n",
    "    return password == password_db\n",
    "\n",
    "def get_ads(object_type, city=None, price_max=None, price_min=0):\n",
    "    '''\n",
    "    Gets list of  advertisement dictionaries from database\n",
    "    '''\n",
    "    connection = pymysql.connect(host=\"localhost\", user=\"root\", passwd=\"\", database=\"ktunt\")\n",
    "    cursor = connection.cursor()\n",
    "\n",
    "    # queries for inserting values\n",
    "    query = f\"SHOW COLUMNS FROM `advertisements`\"\n",
    "    #executing the quires\n",
    "    cursor.execute(query)\n",
    "    cols = cursor.fetchall()\n",
    "    cols = [col[0] for col in cols]\n",
    "    connection.commit()\n",
    "    \n",
    "    # queries for inserting values\n",
    "    query = f\"SELECT * FROM `advertisements`\"\n",
    "    #executing the quires\n",
    "    cursor.execute(query)\n",
    "    rows = cursor.fetchall()\n",
    "    ads = [dict(zip(cols, row)) for row in rows]\n",
    "    \n",
    "    connection.close()\n",
    "    return ads\n",
    "    "
   ]
  },
  {
   "cell_type": "code",
   "execution_count": 3,
   "id": "9581b2d4",
   "metadata": {},
   "outputs": [],
   "source": [
    "user = {'Email':'mararl2@gmail.com', 'User_Password':'passwordino', 'Phone_number':'+36545545', 'Email_notification':1, 'Phone_notification':0}"
   ]
  },
  {
   "cell_type": "code",
   "execution_count": 4,
   "id": "78ddb2d5",
   "metadata": {},
   "outputs": [
    {
     "data": {
      "text/plain": [
       "[{'Ad_id': 'CjAynPMLlb',\n",
       "  'Upload_date': datetime.date(2022, 4, 14),\n",
       "  'Expire_date': datetime.date(2022, 6, 13),\n",
       "  'Ad_description': 'dsa',\n",
       "  'Price': 60000.0,\n",
       "  'Ad_type': 'Sale',\n",
       "  'fk_User_Email': 'testas1@gmail.com',\n",
       "  'Ad_name': 'Namo_testas'},\n",
       " {'Ad_id': 'EohYaNuXjj',\n",
       "  'Upload_date': datetime.date(2022, 5, 14),\n",
       "  'Expire_date': datetime.date(2022, 7, 13),\n",
       "  'Ad_description': '66',\n",
       "  'Price': 555.0,\n",
       "  'Ad_type': 'Sale',\n",
       "  'fk_User_Email': 'testas1@gmail.com',\n",
       "  'Ad_name': 'Ploto testas 201'},\n",
       " {'Ad_id': 'ls9dcJBHOd',\n",
       "  'Upload_date': datetime.date(2022, 5, 14),\n",
       "  'Expire_date': datetime.date(2022, 7, 13),\n",
       "  'Ad_description': '',\n",
       "  'Price': 500.0,\n",
       "  'Ad_type': 'Sale',\n",
       "  'fk_User_Email': 'testas1@gmail.com',\n",
       "  'Ad_name': 'Ploto_testas 9'},\n",
       " {'Ad_id': 'ngSUWNymCV',\n",
       "  'Upload_date': datetime.date(2022, 5, 14),\n",
       "  'Expire_date': datetime.date(2022, 7, 13),\n",
       "  'Ad_description': '',\n",
       "  'Price': 5500000.0,\n",
       "  'Ad_type': 'Sale',\n",
       "  'fk_User_Email': 'testas1@gmail.com',\n",
       "  'Ad_name': 'Plotos testas 1'}]"
      ]
     },
     "execution_count": 4,
     "metadata": {},
     "output_type": "execute_result"
    }
   ],
   "source": [
    "get_ads('flat')"
   ]
  },
  {
   "cell_type": "code",
   "execution_count": 5,
   "id": "08b61f07",
   "metadata": {},
   "outputs": [],
   "source": [
    "def test_query(query):\n",
    "    connection = pymysql.connect(host=\"localhost\", user=\"root\", passwd=\"\", database=\"ktunt\")\n",
    "    cursor = connection.cursor()\n",
    "\n",
    "    # queries for inserting values\n",
    "    #executing the quires\n",
    "    cursor.execute(query)\n",
    "    res = cursor.fetchall()\n",
    "    connection.commit()\n",
    "    connection.close()\n",
    "    return res"
   ]
  },
  {
   "cell_type": "code",
   "execution_count": 6,
   "id": "90c70721",
   "metadata": {},
   "outputs": [
    {
     "data": {
      "text/plain": [
       "()"
      ]
     },
     "execution_count": 6,
     "metadata": {},
     "output_type": "execute_result"
    }
   ],
   "source": [
    "test_query(\"SELECT * FROM garages INNER JOIN advertisements ON garages.fk_Advertisement_Ad_id = advertisements.Ad_id WHERE garages.city = 'Kaunas';\")"
   ]
  },
  {
   "cell_type": "code",
   "execution_count": 7,
   "id": "bdd5e721",
   "metadata": {},
   "outputs": [],
   "source": [
    "def user_ads(email=''):\n",
    "    '''\n",
    "    Gets list of advertisement dictionaries from database that belong to a user(email)\n",
    "    '''\n",
    "    connection = pymysql.connect(host=\"localhost\", user=\"root\", passwd=\"\", database=\"ktunt\")\n",
    "    cursor = connection.cursor()\n",
    "\n",
    "    # queries for inserting values\n",
    "    query = f\"SHOW COLUMNS FROM `advertisements`\"\n",
    "    #executing the quires\n",
    "    cursor.execute(query)\n",
    "    cols = cursor.fetchall()\n",
    "    cols = [col[0] for col in cols]\n",
    "    connection.commit()\n",
    "    \n",
    "    # queries for inserting values\n",
    "    query = f\"SELECT * FROM `advertisements` WHERE fk_User_Email='{email}'\"\n",
    "    #executing the quires\n",
    "    cursor.execute(query)\n",
    "    rows = cursor.fetchall()\n",
    "    ads = [dict(zip(cols, row)) for row in rows]\n",
    "    \n",
    "    connection.close()\n",
    "    return ads"
   ]
  },
  {
   "cell_type": "code",
   "execution_count": 8,
   "id": "2cfe579a",
   "metadata": {},
   "outputs": [
    {
     "data": {
      "text/plain": [
       "[]"
      ]
     },
     "execution_count": 8,
     "metadata": {},
     "output_type": "execute_result"
    }
   ],
   "source": [
    "user_ads('mararl1@ktu.lt')"
   ]
  },
  {
   "cell_type": "code",
   "execution_count": 9,
   "id": "4a686478",
   "metadata": {},
   "outputs": [],
   "source": [
    "def user_ads(email):\n",
    "    '''\n",
    "    Gets list of advertisement dictionaries from database that belong to a user(email)\n",
    "    '''\n",
    "    connection = pymysql.connect(host=\"localhost\", user=\"root\", passwd=\"\", database=\"ktunt\")\n",
    "    cursor = connection.cursor()\n",
    "\n",
    "    # queries for inserting values\n",
    "    query = f\"SHOW COLUMNS FROM `advertisements`\"\n",
    "    #executing the quires\n",
    "    cursor.execute(query)\n",
    "    cols = cursor.fetchall()\n",
    "    cols = [col[0] for col in cols]\n",
    "    connection.commit()\n",
    "    \n",
    "    # queries for inserting values\n",
    "    query = f\"SELECT advertisements.Ad_name, advertisements.Price, advertisements.Ad_type FROM `advertisements` WHERE fk_User_Email='{email}'\"\n",
    "    #executing the quires\n",
    "    cursor.execute(query)\n",
    "    rows = cursor.fetchall()\n",
    "    ads = [dict(zip(cols, row)) for row in rows]\n",
    "    \n",
    "    connection.close()\n",
    "    return ads"
   ]
  },
  {
   "cell_type": "code",
   "execution_count": 10,
   "id": "ed6d3788",
   "metadata": {},
   "outputs": [
    {
     "data": {
      "text/plain": [
       "[]"
      ]
     },
     "execution_count": 10,
     "metadata": {},
     "output_type": "execute_result"
    }
   ],
   "source": [
    "user_ads('mararl1@ktu.lt')"
   ]
  },
  {
   "cell_type": "code",
   "execution_count": 11,
   "id": "69a33a46",
   "metadata": {},
   "outputs": [],
   "source": [
    "def get_ad_object(ad_id):\n",
    "    '''\n",
    "    Gets list of advertisement dictionaries from database that belong to a user(email)\n",
    "    '''\n",
    "    connection = pymysql.connect(host=\"localhost\", user=\"root\", passwd=\"\", database=\"ktunt\")\n",
    "    cursor = connection.cursor()\n",
    "\n",
    "    # queries for inserting values\n",
    "    query = f\"SHOW COLUMNS FROM `advertisements`\"\n",
    "    cursor.execute(query)\n",
    "    cols = cursor.fetchall()\n",
    "    cols = [col[0] for col in cols]\n",
    "    connection.commit()\n",
    "    \n",
    "    # queries for inserting values\n",
    "    query = f\"SELECT * FROM `advertisements` WHERE Ad_id='{ad_id}'\"\n",
    "    cursor.execute(query)\n",
    "    row = cursor.fetchall()\n",
    "    ad = dict(zip(cols, row[0]))\n",
    "    \n",
    "    \n",
    "    \n",
    "    for i in 'flats garages houses plots premises'.split():\n",
    "        # queries for inserting values\n",
    "        query = f\"SHOW COLUMNS FROM `{i}`\"\n",
    "        cursor.execute(query)\n",
    "        cols = cursor.fetchall()\n",
    "        cols = [col[0] for col in cols]\n",
    "        connection.commit()\n",
    "\n",
    "        # queries for inserting values\n",
    "        query = f\"SELECT * FROM `{i}` WHERE fk_Advertisement_Ad_id='{ad_id}'\"\n",
    "        cursor.execute(query)\n",
    "        row = cursor.fetchall()\n",
    "        if len(row) != 0:\n",
    "            ob = dict(zip(cols, row[0]))\n",
    "            break\n",
    "        \n",
    "    res = ad | ob\n",
    "    filtered = [k for k in res.keys() if 'id' not in k]\n",
    "    res = filter_ad_keys(res, filtered)\n",
    "    connection.close()\n",
    "    result = []\n",
    "    for k,v in res.items():\n",
    "        result.append(f\"{k}: {v}\")\n",
    "    return result"
   ]
  },
  {
   "cell_type": "code",
   "execution_count": 12,
   "id": "d8238b24",
   "metadata": {},
   "outputs": [],
   "source": [
    "def filter_ad_keys(dictionary, keys):\n",
    "    \"\"\"Filters a dict by only including certain keys.\"\"\"\n",
    "    key_set = set(keys) & set(dictionary.keys())\n",
    "    return {key: dictionary[key] for key in key_set}"
   ]
  },
  {
   "cell_type": "code",
   "execution_count": 13,
   "id": "5c712eb3",
   "metadata": {},
   "outputs": [],
   "source": [
    "def get_ad(ad_id):\n",
    "    '''\n",
    "    Gets list of  advertisement dictionaries from database\n",
    "    '''\n",
    "    connection = pymysql.connect(host=\"localhost\", user=\"root\", passwd=\"\", database=\"ktunt\")\n",
    "    cursor = connection.cursor()\n",
    "\n",
    "    # queries for inserting values\n",
    "    query = f\"SELECT advertisements.Ad_name, advertisements.Price, advertisements.Ad_description FROM `advertisements` WHERE Ad_id='{ad_id}'\"\n",
    "    #executing the quires\n",
    "    cursor.execute(query)\n",
    "    rows = cursor.fetchall()[0]\n",
    "    connection.close()\n",
    "    return rows"
   ]
  },
  {
   "cell_type": "code",
   "execution_count": 19,
   "id": "b85fafa4",
   "metadata": {},
   "outputs": [],
   "source": [
    "def get_ads_views_stats(ads_type):\n",
    "    connection = pymysql.connect(host=\"localhost\", user=\"root\", passwd=\"\", database=\"ktunt\")\n",
    "    cursor = connection.cursor()\n",
    "    # queries for inserting values\n",
    "    query = f\"SELECT advertisements.Ad_name, COUNT(*) FROM `viewed_ads` INNER JOIN advertisements ON viewed_ads.fk_Advertisement_Ad_id = advertisements.Ad_id WHERE advertisements.Ad_type='{ads_type}'\"\n",
    "    #executing the quires\n",
    "    cursor.execute(query)\n",
    "    views = cursor.fetchall()\n",
    "    connection.close()\n",
    "    return views"
   ]
  },
  {
   "cell_type": "code",
   "execution_count": 30,
   "id": "86a4dd32",
   "metadata": {},
   "outputs": [],
   "source": [
    "def get_views_per_ads():\n",
    "    connection = pymysql.connect(host=\"localhost\", user=\"root\", passwd=\"\", database=\"ktunt\")\n",
    "    cursor = connection.cursor()\n",
    "    # queries for inserting values\n",
    "    query = f\"SELECT fk_Advertisement_Ad_Id, COUNT(*) FROM `viewed_ads` GROUP BY fk_Advertisement_Ad_Id\"\n",
    "    #executing the quires\n",
    "    cursor.execute(query)\n",
    "    rows = cursor.fetchall()\n",
    "    connection.close()\n",
    "    return rows"
   ]
  },
  {
   "cell_type": "code",
   "execution_count": 31,
   "id": "7e1d8b5f",
   "metadata": {},
   "outputs": [
    {
     "data": {
      "text/plain": [
       "(('CjAynPMLlb', 5), ('EohYaNuXjj', 4), ('ls9dcJBHOd', 3), ('ngSUWNymCV', 1))"
      ]
     },
     "execution_count": 31,
     "metadata": {},
     "output_type": "execute_result"
    }
   ],
   "source": [
    "get_views_per_ads()"
   ]
  },
  {
   "cell_type": "code",
   "execution_count": 54,
   "id": "4375b1b0",
   "metadata": {},
   "outputs": [],
   "source": [
    "def get_ads_views(type_):\n",
    "    connection = pymysql.connect(host=\"localhost\", user=\"root\", passwd=\"\", database=\"ktunt\")\n",
    "    cursor = connection.cursor()\n",
    "    # queries for inserting values\n",
    "    query = f\"SELECT Ad_name, Ad_type, Ad_id, Price, COUNT(*) FROM advertisements LEFT JOIN viewed_ads ON advertisements.Ad_id = viewed_ads.fk_Advertisement_Ad_Id WHERE Ad_type='{type_}' GROUP BY fk_Advertisement_Ad_Id\"\n",
    "    #executing the quires\n",
    "    cursor.execute(query)\n",
    "    rows = cursor.fetchall()\n",
    "    s = sum([v[4] for v in rows])\n",
    "    connection.close()\n",
    "    return rows, s"
   ]
  },
  {
   "cell_type": "code",
   "execution_count": 55,
   "id": "ffd95574",
   "metadata": {},
   "outputs": [
    {
     "data": {
      "text/plain": [
       "((('Namo_testas', 'Sale', 'CjAynPMLlb', 60000.0, 5),\n",
       "  ('Ploto testas 201', 'Sale', 'EohYaNuXjj', 555.0, 4),\n",
       "  ('Ploto_testas 9', 'Sale', 'ls9dcJBHOd', 500.0, 3),\n",
       "  ('Plotos testas 1', 'Sale', 'ngSUWNymCV', 5500000.0, 1)),\n",
       " 13)"
      ]
     },
     "execution_count": 55,
     "metadata": {},
     "output_type": "execute_result"
    }
   ],
   "source": [
    "test()"
   ]
  },
  {
   "cell_type": "code",
   "execution_count": null,
   "id": "ffaeaeb9",
   "metadata": {},
   "outputs": [],
   "source": []
  }
 ],
 "metadata": {
  "kernelspec": {
   "display_name": "Python 3 (ipykernel)",
   "language": "python",
   "name": "python3"
  },
  "language_info": {
   "codemirror_mode": {
    "name": "ipython",
    "version": 3
   },
   "file_extension": ".py",
   "mimetype": "text/x-python",
   "name": "python",
   "nbconvert_exporter": "python",
   "pygments_lexer": "ipython3",
   "version": "3.9.7"
  }
 },
 "nbformat": 4,
 "nbformat_minor": 5
}
